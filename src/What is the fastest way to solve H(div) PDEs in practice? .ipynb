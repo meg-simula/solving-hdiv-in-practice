{
 "cells": [
  {
   "cell_type": "markdown",
   "metadata": {},
   "source": [
    "# How to solve H(div) PDEs in practice?\n",
    "\n",
    "This document explores the current, easily accessible, state of the art for solving an $H(\\rm div) \\times L^2$ formulation of Poisson's problem or equivalently Darcy flow using FEniCS (www.fenicsproject.org) and underlying linear algebra libraries e.g. PETSc.\n",
    "\n",
    "## Mathematical background\n",
    "\n",
    "### Poisson's equation\n",
    "The underlying PDE in question is: given $f$, find $p$ satisfying\n",
    "\n",
    "  $- \\Delta p = f$ \n",
    "\n",
    "over a computational domain $\\Omega$ with homogeneous Dirichlet boundary conditions where $\\Delta$ is the standard Laplace operator.\n",
    "\n",
    "### Primal formulation\n",
    "The standard (primal) $H^1$ formulation of this problem reads as: find $p \\in H^1_0$ such that\n",
    "\n",
    "  $\\int_{\\Omega} \\nabla p \\cdot \\nabla q \\, \\textrm{d} x = \\int_{\\Omega} f q \\, \\textrm{d} x$\n",
    "\n",
    "for all $q \\in H^1_0$. Usual finite element spaces for this formulation is for instance Lagrange elements of order $k \\geq 1$ i.e. continuous piecewise polynomials of polynomial order $k$ defined relative to a mesh of the domain.\n",
    "\n",
    "### Mixed formulation\n",
    "The standard (mixed) $H(\\rm div) \\times L^2$ formulation of this problem reads as: find $u \\in H(\\rm div)$ and $p \\in L^2$ such that\n",
    "\n",
    "  $\\int_{\\Omega} u \\cdot v + \\nabla \\cdot u q + \\nabla \\cdot v p \\, \\textrm{d} x = \\int_{\\Omega} - f q \\, \\textrm{d} x$ \n",
    "\n",
    "Stable finite elements for this formulation is for instance Raviart-Thomas elements of order $k+1$ and discontinuous elements of order $k$ for $k \\geq 0$. \n"
   ]
  },
  {
   "cell_type": "markdown",
   "metadata": {},
   "source": [
    "## Implementation basics "
   ]
  },
  {
   "cell_type": "markdown",
   "metadata": {},
   "source": [
    "The implementation is based on the FEniCS finite element software and its Python interface:"
   ]
  },
  {
   "cell_type": "code",
   "execution_count": 1,
   "metadata": {
    "collapsed": true
   },
   "outputs": [],
   "source": [
    "# Import useful libraries\n",
    "from dolfin import *\n",
    "import numpy\n",
    "import pylab\n",
    "\n",
    "# Plot inline in this notebook\n",
    "%matplotlib inline\n",
    "\n",
    "# Set basic optimization parameters for FEniCS\n",
    "parameters[\"form_compiler\"][\"representation\"] = \"uflacs\"\n",
    "parameters[\"form_compiler\"][\"cpp_optimize\"] = True"
   ]
  },
  {
   "cell_type": "markdown",
   "metadata": {},
   "source": [
    "Some code snippets for running solves, timing them and running repeated solves and reporting timing averages and standard deviations"
   ]
  },
  {
   "cell_type": "code",
   "execution_count": 2,
   "metadata": {
    "collapsed": true
   },
   "outputs": [],
   "source": [
    "def time_solve(mesh, algorithm):\n",
    "    \"\"\"Run a given algorithm over a given mesh, \n",
    "    time it and return the time and the dimension of the linear system.\"\"\"\n",
    "    \n",
    "    solution, tag = algorithm(mesh)\n",
    "    times = timings(TimingClear_clear, [TimingType_wall])\n",
    "    dim = solution.function_space().dim()\n",
    "    t = times.get_value(tag, \"wall tot\")\n",
    "\n",
    "    return (t, dim)\n",
    "\n",
    "def time_solves(mesh, algorithm, R=1):\n",
    "    \"\"\"Run R solves of a given algorithm over a given mesh, \n",
    "    time each and return average time and standard deviation.\"\"\"\n",
    "    \n",
    "    times = numpy.empty(R)\n",
    "    h = mesh.hmax()\n",
    "    for i in range(R):\n",
    "        t, dim = time_solve(mesh, algorithm)\n",
    "        print \"%s (s) with N=%d and h=%.2g: %.3g\" % (algorithm, dim, h, t)\n",
    "        times[i] = t\n",
    "\n",
    "    avg_t = numpy.mean(times)\n",
    "    std_t = numpy.std(times)\n",
    "\n",
    "    return (avg_t, std_t)"
   ]
  },
  {
   "cell_type": "markdown",
   "metadata": {},
   "source": [
    "## Implementation and study of primal formulation "
   ]
  },
  {
   "cell_type": "markdown",
   "metadata": {},
   "source": [
    "For comparison purposes, it is useful to look at run times for a relatively straightforward implementation of the primal formulation. So, code is included for this first:"
   ]
  },
  {
   "cell_type": "code",
   "execution_count": 3,
   "metadata": {
    "collapsed": true
   },
   "outputs": [],
   "source": [
    "def primal(mesh, tag):\n",
    "    \"\"\"Compute linear system corresponding to H^1 formulation,\n",
    "    return matrix A, right-hand side b and Function for the solution.\"\"\"\n",
    "    \n",
    "    Q = FunctionSpace(mesh, \"CG\", 1)\n",
    "    p = TrialFunction(Q)\n",
    "    q = TestFunction(Q)\n",
    "\n",
    "    a = inner(grad(p), grad(q))*dx\n",
    "    f = Constant(1.0)\n",
    "    L = f*q*dx\n",
    "\n",
    "    bc = DirichletBC(Q, 0.0, \"on_boundary\")\n",
    "\n",
    "    A, b = assemble_system(a, L, bc)\n",
    "\n",
    "    p = Function(Q)\n",
    "    return (A, b, p)"
   ]
  },
  {
   "cell_type": "markdown",
   "metadata": {},
   "source": [
    "### Solving the linear system using LU"
   ]
  },
  {
   "cell_type": "markdown",
   "metadata": {},
   "source": [
    "The very basic method for solving the resulting system of equations is by direct LU factorization. Let's just look at that first. The below code snippet just extracts the primal formulation linear system, solves and times it: "
   ]
  },
  {
   "cell_type": "code",
   "execution_count": 4,
   "metadata": {
    "collapsed": true
   },
   "outputs": [],
   "source": [
    "def primal_lu(mesh):\n",
    "    \"\"\"On given mesh, solve H^1 formulation using plain LU.\"\"\"\n",
    "\n",
    "    tag = \"Primal LU\"\n",
    "    A, b, p = primal(mesh, tag)\n",
    "\n",
    "    timer = Timer(tag)\n",
    "    solver = LUSolver(A)\n",
    "    solver.solve(p.vector(), b)\n",
    "    timer.stop()\n",
    "\n",
    "    return (p, tag)"
   ]
  },
  {
   "cell_type": "markdown",
   "metadata": {},
   "source": [
    "Ok, so let's just run some timings with this formulation to see how long it takes and how the run time scales with mesh size and/or problem size i.e. number of degrees of freedom. "
   ]
  },
  {
   "cell_type": "code",
   "execution_count": 5,
   "metadata": {
    "collapsed": false,
    "scrolled": true
   },
   "outputs": [
    {
     "name": "stdout",
     "output_type": "stream",
     "text": [
      "<function primal_lu at 0x7f6cea525d70> (s) with N=729 and h=0.22: 0.00562\n",
      "<function primal_lu at 0x7f6cea525d70> (s) with N=729 and h=0.22: 0.00513\n",
      "<function primal_lu at 0x7f6cea525d70> (s) with N=729 and h=0.22: 0.00535\n",
      "Primal LU took 0.00537 (+- 0.000203)\n",
      "<function primal_lu at 0x7f6cea525d70> (s) with N=4913 and h=0.11: 0.106\n",
      "<function primal_lu at 0x7f6cea525d70> (s) with N=4913 and h=0.11: 0.11\n",
      "<function primal_lu at 0x7f6cea525d70> (s) with N=4913 and h=0.11: 0.108\n",
      "Primal LU took 0.108 (+- 0.00187)\n",
      "<function primal_lu at 0x7f6cea525d70> (s) with N=35937 and h=0.054: 9.33\n",
      "<function primal_lu at 0x7f6cea525d70> (s) with N=35937 and h=0.054: 9.38\n",
      "<function primal_lu at 0x7f6cea525d70> (s) with N=35937 and h=0.054: 9.45\n",
      "Primal LU took 9.39 (+- 0.0483)\n"
     ]
    }
   ],
   "source": [
    "sizes = [8, 16, 32]\n",
    "hs = []\n",
    "times = []\n",
    "stds = []\n",
    "Ns = []\n",
    "\n",
    "R = 3\n",
    "\n",
    "for n in sizes:\n",
    "    mesh = UnitCubeMesh(n, n, n)\n",
    "    Ns += [mesh.num_vertices()] # NB CG1 specific\n",
    "    hs += [mesh.hmax()]\n",
    "   \n",
    "    avg_t, std_t = time_solves(mesh, primal_lu, R=R)\n",
    "    print \"%s took %0.3g (+- %0.3g)\" % (\"Primal LU\", avg_t, std_t)\n",
    "\n",
    "    times += [avg_t]\n",
    "    stds += [std_t]"
   ]
  },
  {
   "cell_type": "markdown",
   "metadata": {},
   "source": [
    "Ok, let's plot the run times versus mesh size"
   ]
  },
  {
   "cell_type": "code",
   "execution_count": 6,
   "metadata": {
    "collapsed": false
   },
   "outputs": [
    {
     "data": {
      "image/png": "[encoded data removed]",
      "text/plain": [
       "<matplotlib.figure.Figure at 0x7f6d041133d0>"
      ]
     },
     "metadata": {},
     "output_type": "display_data"
    }
   ],
   "source": [
    "pylab.figure()\n",
    "pylab.errorbar(hs, times, stds)\n",
    "pylab.grid(True)\n",
    "pylab.xlabel(\"h\")\n",
    "pylab.ylabel(\"Run time (s)\")\n",
    "pylab.show()"
   ]
  },
  {
   "cell_type": "markdown",
   "metadata": {},
   "source": [
    "Or, we can look at run times versus problem size (number of degrees of freedom)"
   ]
  },
  {
   "cell_type": "code",
   "execution_count": 7,
   "metadata": {
    "collapsed": false
   },
   "outputs": [
    {
     "data": {
      "image/png": "[encoded data removed]",
      "text/plain": [
       "<matplotlib.figure.Figure at 0x7f6d04113f10>"
      ]
     },
     "metadata": {},
     "output_type": "display_data"
    }
   ],
   "source": [
    "pylab.figure()\n",
    "pylab.errorbar(Ns, times, stds)\n",
    "pylab.grid(True)\n",
    "pylab.xlabel(\"#dofs\")\n",
    "pylab.ylabel(\"Run time (s)\")\n",
    "\n",
    "pylab.show()"
   ]
  },
  {
   "cell_type": "markdown",
   "metadata": {},
   "source": [
    "### Using AMG instead of LU for the primal formulation"
   ]
  },
  {
   "cell_type": "markdown",
   "metadata": {},
   "source": [
    "Ok, so we can very easily do much better than using LU for this formulation. An obvious choice is to use built-in CG (symmetric problem) with AMG preconditioning out of the box. Here is a short code snippet for doing so and timing the result: "
   ]
  },
  {
   "cell_type": "code",
   "execution_count": 8,
   "metadata": {
    "collapsed": true
   },
   "outputs": [],
   "source": [
    "def primal_amg(mesh):\n",
    "    \"Solve primal H^1 formulation using CG with AMG.\"\n",
    "\n",
    "    tag = \"Primal AMG\"\n",
    "    A, b, p = primal(mesh, tag)\n",
    "\n",
    "    timer = Timer(tag)\n",
    "    solver = PETScKrylovSolver(\"cg\", \"amg\")\n",
    "    solver.set_operator(A)\n",
    "    num_it = solver.solve(p.vector(), b)\n",
    "    timer.stop()\n",
    "\n",
    "    print \"%s: num_it = \" % tag, num_it\n",
    "    return (p, tag)"
   ]
  },
  {
   "cell_type": "markdown",
   "metadata": {},
   "source": [
    "Let's do the same as we did for the LU, run some timings, and plot the results versus mesh size and problem size.Let's also try with N=64 since that should be completely feasible with an iterative solver.  "
   ]
  },
  {
   "cell_type": "code",
   "execution_count": 10,
   "metadata": {
    "collapsed": false
   },
   "outputs": [
    {
     "name": "stdout",
     "output_type": "stream",
     "text": [
      "Primal AMG: num_it =  3\n",
      "<function primal_amg at 0x7f6cb2f80848> (s) with N=729 and h=0.22: 0.00956\n",
      "Primal AMG: num_it =  3\n",
      "<function primal_amg at 0x7f6cb2f80848> (s) with N=729 and h=0.22: 0.0104\n",
      "Primal AMG: num_it =  3\n",
      "<function primal_amg at 0x7f6cb2f80848> (s) with N=729 and h=0.22: 0.00951\n",
      "Primal AMG took 0.00981 (+- 0.000386)\n",
      "Primal AMG: num_it =  3\n",
      "<function primal_amg at 0x7f6cb2f80848> (s) with N=4913 and h=0.11: 0.103\n",
      "Primal AMG: num_it =  3\n",
      "<function primal_amg at 0x7f6cb2f80848> (s) with N=4913 and h=0.11: 0.108\n",
      "Primal AMG: num_it =  3\n",
      "<function primal_amg at 0x7f6cb2f80848> (s) with N=4913 and h=0.11: 0.111\n",
      "Primal AMG took 0.107 (+- 0.00346)\n",
      "Primal AMG: num_it =  3\n",
      "<function primal_amg at 0x7f6cb2f80848> (s) with N=35937 and h=0.054: 2.18\n",
      "Primal AMG: num_it =  3\n",
      "<function primal_amg at 0x7f6cb2f80848> (s) with N=35937 and h=0.054: 2.14\n",
      "Primal AMG: num_it =  3\n",
      "<function primal_amg at 0x7f6cb2f80848> (s) with N=35937 and h=0.054: 2.11\n",
      "Primal AMG took 2.14 (+- 0.0266)\n",
      "Primal AMG: num_it =  4\n",
      "<function primal_amg at 0x7f6cb2f80848> (s) with N=274625 and h=0.027: 56.5\n",
      "Primal AMG: num_it =  4\n",
      "<function primal_amg at 0x7f6cb2f80848> (s) with N=274625 and h=0.027: 56.6\n",
      "Primal AMG: num_it =  4\n",
      "<function primal_amg at 0x7f6cb2f80848> (s) with N=274625 and h=0.027: 55\n",
      "Primal AMG took 56 (+- 0.729)\n"
     ]
    },
    {
     "data": {
      "image/png": "[encoded data removed]",
      "text/plain": [
       "<matplotlib.figure.Figure at 0x7f6cb2e58190>"
      ]
     },
     "metadata": {},
     "output_type": "display_data"
    },
    {
     "data": {
      "image/png": "[encoded data removed]",
      "text/plain": [
       "<matplotlib.figure.Figure at 0x7f6cb14c2510>"
      ]
     },
     "metadata": {},
     "output_type": "display_data"
    }
   ],
   "source": [
    "sizes = [8, 16, 32, 64]\n",
    "hs = []\n",
    "times = []\n",
    "stds = []\n",
    "Ns = []\n",
    "\n",
    "R = 3\n",
    "\n",
    "for n in sizes:\n",
    "    mesh = UnitCubeMesh(n, n, n)\n",
    "    Ns += [mesh.num_vertices()] # NB CG1 specific\n",
    "    hs += [mesh.hmax()]\n",
    "   \n",
    "    avg_t, std_t = time_solves(mesh, primal_amg, R=R)\n",
    "    print \"%s took %0.3g (+- %0.3g)\" % (\"Primal AMG\", avg_t, std_t)\n",
    "\n",
    "    times += [avg_t]\n",
    "    stds += [std_t]"
   ]
  },
  {
   "cell_type": "code",
   "execution_count": 11,
   "metadata": {
    "collapsed": false
   },
   "outputs": [
    {
     "data": {
      "image/png": "[encoded data removed]",
      "text/plain": [
       "<matplotlib.figure.Figure at 0x7f6cb2f83510>"
      ]
     },
     "metadata": {},
     "output_type": "display_data"
    },
    {
     "data": {
      "image/png": "[encoded data removed]",
      "text/plain": [
       "<matplotlib.figure.Figure at 0x7f6cb2deaf50>"
      ]
     },
     "metadata": {},
     "output_type": "display_data"
    }
   ],
   "source": [
    "pylab.figure()\n",
    "pylab.errorbar(hs, times, stds)\n",
    "pylab.grid(True)\n",
    "pylab.xlabel(\"h\")\n",
    "pylab.ylabel(\"Run time (s)\")\n",
    "pylab.show()\n",
    "\n",
    "pylab.figure()\n",
    "pylab.errorbar(Ns, times, stds)\n",
    "pylab.grid(True)\n",
    "pylab.xlabel(\"#dofs\")\n",
    "pylab.ylabel(\"Run time (s)\")\n",
    "\n",
    "pylab.show()"
   ]
  },
  {
   "cell_type": "markdown",
   "metadata": {},
   "source": [
    "A quick look at these results indicates that \n",
    "* AMG beats LU run times around #dofs = 5000 (16 x 16 x 16 mesh) and onwards (increasing problem size);\n",
    "* AMG run times increase with roughly a factor 20 when the mesh increases with a factor 10. \n",
    "* AMG for 32 x 32 x 32 takes about 2 seconds "
   ]
  },
  {
   "cell_type": "markdown",
   "metadata": {},
   "source": [
    "## Implementation and exploration of the mixed formulation"
   ]
  },
  {
   "cell_type": "code",
   "execution_count": 12,
   "metadata": {
    "collapsed": true
   },
   "outputs": [],
   "source": [
    "def darcy(mesh):\n",
    "    \"\"\"Compute and return linear system and solution function for mixed H(div) x L^2 formulation of Poisson/Darcy.\"\"\"\n",
    "    \n",
    "    V = FiniteElement(\"RT\", mesh.ufl_cell(), 1)\n",
    "    Q = FiniteElement(\"DG\", mesh.ufl_cell(), 0)\n",
    "    W = FunctionSpace(mesh, V*Q)\n",
    "\n",
    "    (u, p) = TrialFunctions(W)\n",
    "    (v, q) = TestFunctions(W)\n",
    "\n",
    "    a = (dot(u, v) + div(u)*q + div(v)*p)*dx\n",
    "    f = Constant(-1.0)\n",
    "    L = f*q*dx\n",
    "\n",
    "    A = assemble(a)\n",
    "    b = assemble(L)\n",
    "    w = Function(W)\n",
    "\n",
    "    return A, b, w"
   ]
  },
  {
   "cell_type": "code",
   "execution_count": 15,
   "metadata": {
    "collapsed": true
   },
   "outputs": [],
   "source": [
    "def darcy_lu(mesh):\n",
    "    \"Solve mixed H(div) x L^2 formulation using LU\"\n",
    "    \n",
    "    tag = \"Darcy LU\"\n",
    "    (A, b, w) = darcy(mesh)\n",
    "\n",
    "    timer = Timer(tag)\n",
    "    solve(A, w.vector(), b)\n",
    "    timer.stop()\n",
    "\n",
    "    return (w, tag)"
   ]
  },
  {
   "cell_type": "markdown",
   "metadata": {},
   "source": [
    "With this mixed variational formulation of the problem and the basic LU solver, let's run some similar experiments "
   ]
  },
  {
   "cell_type": "code",
   "execution_count": 17,
   "metadata": {
    "collapsed": false
   },
   "outputs": [
    {
     "name": "stdout",
     "output_type": "stream",
     "text": [
      "<function darcy_lu at 0x7f6cb2de6578> (s) with N=9600 and h=0.22: 0.144\n",
      "<function darcy_lu at 0x7f6cb2de6578> (s) with N=9600 and h=0.22: 0.139\n",
      "<function darcy_lu at 0x7f6cb2de6578> (s) with N=9600 and h=0.22: 0.14\n",
      "Darcy LU took 0.141 (+- 0.00213)\n",
      "<function darcy_lu at 0x7f6cb2de6578> (s) with N=75264 and h=0.11: 13.3\n",
      "<function darcy_lu at 0x7f6cb2de6578> (s) with N=75264 and h=0.11: 13.2\n",
      "<function darcy_lu at 0x7f6cb2de6578> (s) with N=75264 and h=0.11: 13.5\n",
      "Darcy LU took 13.3 (+- 0.114)\n"
     ]
    }
   ],
   "source": [
    "sizes = [8, 16]\n",
    "hs = []\n",
    "times = []\n",
    "stds = []\n",
    "Ns = []\n",
    "\n",
    "R = 3\n",
    "\n",
    "for n in sizes:\n",
    "    mesh = UnitCubeMesh(n, n, n)\n",
    "    mesh.init()\n",
    "    Ns += [mesh.num_edges() + mesh.num_cells()] # NB: RT0 x DG0 specific\n",
    "    hs += [mesh.hmax()]\n",
    "   \n",
    "    avg_t, std_t = time_solves(mesh, darcy_lu, R=R)\n",
    "    print \"%s took %0.3g (+- %0.3g)\" % (\"Darcy LU\", avg_t, std_t)\n",
    "\n",
    "    times += [avg_t]\n",
    "    stds += [std_t]"
   ]
  },
  {
   "cell_type": "markdown",
   "metadata": {},
   "source": [
    "Some observations:\n",
    "* While LU for the primal formulation on the 8 x 8 x 8 mesh took 0.00537 s, LU for mixed on same mesh takes about 0.141 s which is a factor 20 increase. One can note however that N = 729 for the former and N = 9600 for the latter, which is a factor 10 increase in system size. \n",
    "* Running with 32 x 32 x 32 runs out of memory. \n"
   ]
  },
  {
   "cell_type": "code",
   "execution_count": null,
   "metadata": {
    "collapsed": false
   },
   "outputs": [],
   "source": []
  }
 ],
 "metadata": {
  "kernelspec": {
   "display_name": "Python 2",
   "language": "python",
   "name": "python2"
  },
  "language_info": {
   "codemirror_mode": {
    "name": "ipython",
    "version": 2
   },
   "file_extension": ".py",
   "mimetype": "text/x-python",
   "name": "python",
   "nbconvert_exporter": "python",
   "pygments_lexer": "ipython2",
   "version": "2.7.12"
  }
 },
 "nbformat": 4,
 "nbformat_minor": 0
}
